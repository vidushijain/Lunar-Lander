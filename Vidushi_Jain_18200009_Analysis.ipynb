{
 "cells": [
  {
   "cell_type": "markdown",
   "metadata": {},
   "source": [
    "## Assignment 2: Lunar Lander - Analysis\n",
    "\n",
    "Student Name- Vidushi Jain <br/>\n",
    "Student Number- 18200009 "
   ]
  },
  {
   "cell_type": "markdown",
   "metadata": {},
   "source": [
    "## Part 1 \n",
    "Task- Train a supervised machine learning model to control the Lunar Lander craft based on the image dataset."
   ]
  },
  {
   "cell_type": "markdown",
   "metadata": {},
   "source": [
    "\n",
    "For this task, we have tried six different model architecture where we experimented with parameters like: <br/>\n",
    "\n",
    "1) Handling Class imbalance problem - Model 1 <br/>\n",
    "2) Changing the number of hidden layers - Model 3 <br/>\n",
    "3) Adding padding - Model 4 <br/>\n",
    "4) Adding drop out layer - Model 5 <br/>\n",
    "5) Changing the kernel size - Model 5 <br/>\n",
    "6) Changing the number of filters - Model 6 <br/>"
   ]
  },
  {
   "cell_type": "markdown",
   "metadata": {},
   "source": [
    "<b>Model Architecture </b>\n",
    "\n",
    "Detailed description of each model is included in the [Assignment_2_Part_1 notebook](Assignment_2_Part_1.ipynb) <br/>\n",
    "<b>Short Description of Models- <br/> </b>\n",
    "<b>Model 1</b> - In this we have 3 convolutional layers. <br/>\n",
    "1) <b>First convolutional layer</b> consists consists of <b>32 filters</b> each of <b>size 3 x 3</b>. Followed by another max pooling layer of 2x2 window. <br/>\n",
    "2) <b>Second convolutional</b> layer consists consists of <b>32 filters</b> each of<b> size 3 x 3</b>. Followed by another max pooling layer of 2x2 window. <br/>\n",
    "3) <b>Third convolutional layer </b>consists consists of <b>64 filters </b>each of size 3 x 3. Followed by another max pooling layer of 2x2 window.<br/>\n",
    "4) Next layer is the <b>dense layer</b> (fully connected layer) that has <b>256 neurons</b>. This is followed by <b>dropout layer</b> with a dropout rate of 0.5.<br/>\n",
    "5) The final output layer is another <b>dense layer</b> which has number of neurons equal to the number of classes. <br/>\n",
    "<b> <font color=\"red\">In Model 1 we are not handling class imbalance problem. But in rest of the models we are handling this problem by applying undersampling</font></b> <br/>\n",
    "<b>Model 2</b> <br/>\n",
    "In this we have used the same Architecture as Model 1. But we have <b>handled the class imbalance</b> problem by using <b>undersampling of data </b>with the help of imblearn.RandomUnderSampler. <br/>\n",
    "<b>Model 3</b> <br/>\n",
    "In Model 3, we have added another convolutional layer of 32 filters each of size 3 x 3 after the first layer of Model 1 <br/>\n",
    "<b>Model 4</b> <br/>\n",
    "In Model 4, we have introduced padding to Model 1 architecture <br/>\n",
    "<b>Model 5</b> <br/>\n",
    "Model 5 has four convolutional layers similar to Model3 Architecture. In this Model, we have changed the size of the filter from 3 x 3 to 5 x 5. Also after the third layer, we have introduced a dropout layer to prevent overfitting of the model <br/>\n",
    "<b> Model 6</b><br/>\n",
    "In Model 6, we have changed the number of filters. Usually, the number of filters in the convolutional layer grows after each layer. The first few layers with lower number of filter learns simple features of the images whereas the deeper layers learn more complex features. So we have created a model in which we are increasing the number of filters as we go deeper. First and second layer consists of 32 filters of size 3 x 3, third layer consists of 64 filters of size 3 x 3 and fourth layer consists of 128 filters of size 3 x3 \n",
    "\n",
    "\n"
   ]
  },
  {
   "cell_type": "markdown",
   "metadata": {},
   "source": [
    "## Result of the Part 1 Experiment"
   ]
  },
  {
   "cell_type": "code",
   "execution_count": null,
   "metadata": {},
   "outputs": [],
   "source": [
    "dict_list=[model_test_accuracy_comparisons,\n",
    "model_test_precision_comparisons,\n",
    "model_test_recall_comparisons,\n",
    "model_test_f1_comparisons,\n",
    "model_train_time_comparisons,\n",
    "task1_model_reward_comparisons]"
   ]
  },
  {
   "cell_type": "code",
   "execution_count": 4,
   "metadata": {},
   "outputs": [],
   "source": [
    "import json\n",
    "filename = 'part1_model_results.txt'\n",
    "with open(filename, 'r') as fd:\n",
    "    dict_list = json.load(fd)"
   ]
  },
  {
   "cell_type": "code",
   "execution_count": 5,
   "metadata": {},
   "outputs": [],
   "source": [
    "model_test_accuracy_comparisons=dict_list[0]\n",
    "model_test_precision_comparisons=dict_list[1]\n",
    "model_test_recall_comparisons=dict_list[2]\n",
    "model_test_f1_comparisons=dict_list[3]\n",
    "model_train_time_comparisons=dict_list[4]\n",
    "task1_model_reward_comparisons=dict_list[5]"
   ]
  },
  {
   "cell_type": "markdown",
   "metadata": {},
   "source": [
    "<b>Comparison of accuracy of different model on test dataset </b>"
   ]
  },
  {
   "cell_type": "code",
   "execution_count": 6,
   "metadata": {},
   "outputs": [
    {
     "data": {
      "text/plain": [
       "{'Model 1': 0.73992673992674,\n",
       " 'Model 2': 0.5013082155939299,\n",
       " 'Model 3': 0.5170068027210885,\n",
       " 'Model 4': 0.5463108320251178,\n",
       " 'Model 5': 0.5133437990580848,\n",
       " 'Model 6': 0.456305599162742}"
      ]
     },
     "execution_count": 6,
     "metadata": {},
     "output_type": "execute_result"
    }
   ],
   "source": [
    "model_test_accuracy_comparisons"
   ]
  },
  {
   "cell_type": "code",
   "execution_count": 10,
   "metadata": {},
   "outputs": [
    {
     "data": {
      "image/png": "[encoded data removed]",
      "text/plain": [
       "<Figure size 432x288 with 1 Axes>"
      ]
     },
     "metadata": {
      "needs_background": "light"
     },
     "output_type": "display_data"
    }
   ],
   "source": [
    "import matplotlib.pyplot as plt\n",
    "%matplotlib inline \n",
    "\n",
    "plt.bar(range(len(model_test_accuracy_comparisons)), model_test_accuracy_comparisons.values(), align='center')\n",
    "plt.xticks(range(len(model_test_accuracy_comparisons)), list(model_test_accuracy_comparisons.keys()))\n",
    "plt.xlabel('Models')\n",
    "plt.ylabel('Accuracy')\n",
    "plt.title('Accuracy of different models on test dataset')\n",
    "plt.show()"
   ]
  },
  {
   "cell_type": "markdown",
   "metadata": {},
   "source": [
    "<b>Comparison of F1-Score of different model on test dataset </b>"
   ]
  },
  {
   "cell_type": "code",
   "execution_count": 14,
   "metadata": {},
   "outputs": [
    {
     "data": {
      "text/plain": [
       "{'Model 1': '0.72',\n",
       " 'Model 2': '0.56',\n",
       " 'Model 3': '0.57',\n",
       " 'Model 4': '0.58',\n",
       " 'Model 5': '0.57',\n",
       " 'Model 6': '0.51'}"
      ]
     },
     "execution_count": 14,
     "metadata": {},
     "output_type": "execute_result"
    }
   ],
   "source": [
    "model_test_f1_comparisons"
   ]
  },
  {
   "cell_type": "code",
   "execution_count": 26,
   "metadata": {},
   "outputs": [
    {
     "data": {
      "image/png": "[encoded data removed]",
      "text/plain": [
       "<Figure size 432x288 with 1 Axes>"
      ]
     },
     "metadata": {
      "needs_background": "light"
     },
     "output_type": "display_data"
    }
   ],
   "source": [
    "import matplotlib.pyplot as plt\n",
    "%matplotlib inline \n",
    "\n",
    "plt.bar(range(len(model_test_f1_comparisons)), [float(x) for x in model_test_f1_comparisons.values()], align='center')\n",
    "plt.xticks(range(len(model_test_f1_comparisons)), list(model_test_f1_comparisons.keys()))\n",
    "plt.xlabel('Models')\n",
    "plt.ylabel('F1-Score')\n",
    "plt.title('F1-Score of different models on test dataset')\n",
    "plt.show()"
   ]
  },
  {
   "cell_type": "markdown",
   "metadata": {},
   "source": [
    "<b>Comparison of rewards achieved by the models trained to the Lunar Lander Game </b> <br/>\n",
    "I have executed the lunar_lander_ml_images_player.py file for each model in [Assignment_2_Part_1 notebook](Assignment_2_Part_1.ipynb)"
   ]
  },
  {
   "cell_type": "code",
   "execution_count": 25,
   "metadata": {},
   "outputs": [
    {
     "data": {
      "text/plain": [
       "{'Model 1': '-314.5653621855106',\n",
       " 'Model 2': '-371.15323528526295',\n",
       " 'Model 3': '-454.32385020153396',\n",
       " 'Model 4': '-420.58271429697925',\n",
       " 'Model 5': '-446.5792155174349',\n",
       " 'Model 6': '-297.6973863731488'}"
      ]
     },
     "execution_count": 25,
     "metadata": {},
     "output_type": "execute_result"
    }
   ],
   "source": [
    "task1_model_reward_comparisons"
   ]
  },
  {
   "cell_type": "code",
   "execution_count": 27,
   "metadata": {},
   "outputs": [
    {
     "data": {
      "image/png": "[encoded data removed]",
      "text/plain": [
       "<Figure size 432x288 with 1 Axes>"
      ]
     },
     "metadata": {
      "needs_background": "light"
     },
     "output_type": "display_data"
    }
   ],
   "source": [
    "plt.bar(range(len(task1_model_reward_comparisons)), [float(x) for x in task1_model_reward_comparisons.values()], align='center')\n",
    "plt.xticks(range(len(task1_model_reward_comparisons)), list(task1_model_reward_comparisons.keys()))\n",
    "plt.xlabel('Models')\n",
    "plt.ylabel('Average Total Rewards')\n",
    "plt.title('Average Total Rewards of different models')\n",
    "plt.show()"
   ]
  },
  {
   "cell_type": "markdown",
   "metadata": {},
   "source": [
    "<b>Computation Time Required By Each Model </b>"
   ]
  },
  {
   "cell_type": "code",
   "execution_count": 29,
   "metadata": {},
   "outputs": [
    {
     "data": {
      "text/plain": [
       "{'Model 1': 2378.4542820453644,\n",
       " 'Model 2': 312.3986496925354,\n",
       " 'Model 3': 305.4613618850708,\n",
       " 'Model 4': 341.64512634277344,\n",
       " 'Model 5': 333.92546582221985,\n",
       " 'Model 6': 310.34310507774353}"
      ]
     },
     "execution_count": 29,
     "metadata": {},
     "output_type": "execute_result"
    }
   ],
   "source": [
    "model_train_time_comparisons"
   ]
  },
  {
   "cell_type": "code",
   "execution_count": 30,
   "metadata": {},
   "outputs": [
    {
     "data": {
      "image/png": "[encoded data removed]",
      "text/plain": [
       "<Figure size 432x288 with 1 Axes>"
      ]
     },
     "metadata": {
      "needs_background": "light"
     },
     "output_type": "display_data"
    }
   ],
   "source": [
    "plt.bar(range(len(model_train_time_comparisons)), [float(x) for x in model_train_time_comparisons.values()], align='center')\n",
    "plt.xticks(range(len(model_train_time_comparisons)), list(model_train_time_comparisons.keys()))\n",
    "plt.xlabel('Models')\n",
    "plt.ylabel('Time (seconds)')\n",
    "plt.title('Computation Time taken by each Model')\n",
    "plt.show()"
   ]
  },
  {
   "cell_type": "markdown",
   "metadata": {},
   "source": [
    "From the above graphs we can see that Model 1 is giving us maximum accuracy and F1-Score. But we are getting high accuracy as classes used in Model 1 are imbalanced. So that's why it ended up predicting the majority class, resulting in high accuracy. For all other models we are have balanced the classes using under-sampling. We have taken Model 2 as base model with accuracy of 50.1% and then have performed changes in that architecture.  <br/>\n",
    "<b>The biggest change in performance of test dataset was seen after performing below changes:</b> <br/>\n",
    "Adding Padding <br/>\n",
    "By changing the size of filter<br/>\n",
    "By adding another convolutional layer <br/>\n",
    "\n",
    "We were able to improve the accuracy (51.7%) on test dataset by adding any convolutional layer(Model 3). But if we look at the rewards it's giving us worst performance. One of the reasons can be that we have taken a small dataset. As weincrease the number of layers, number of parameters in the network also increases. And on a smaller dataset, there are very good chances that these increased parameters results in overfitting. So that's why we are getting low reward when tested on unseen data. Generally if we have a large dataset, adding more hidden layer will give us more accuracy as it will try to detect more useful features. But for a smaller dataset, it might result in poor generalization.   <br/>\n",
    "\n",
    "Also by adding padding we were able to get highest accuracy of 54.6% (Model 4) on test dataset. If we look at the rewards, we are not getting so good result. In padding we generally introduce rows and columns of zeros to keep the size of the image same after convolution. This can be important when we want to capture information at the borders. One of the drawback of this method is that it will take more time in training as we are not shrinkinh the size of image. <br/>\n",
    "\n",
    "Changing the kernel size, was able to slighly improve the accuracy (51.3%) on the test dataset. But if we looked at the rewards, the resuls is not so good. Basically a filter is a matrix of weights which we roll around the input to detect some kind of features such as edge detection. Smaller filter size is used to collect local information whereas bigger filter size helps in collecting more global and high-level information. In our case we increased our filter size from 3x3 to 5x5. So there might be chances that it was not able to capture the local information properly. In games, each and every pixel plays an important role in deciding the action. So smaller filter size might be much better in our case.<br/> \n",
    "\n",
    "We can also see that by changing the number of filters in the network, our accuracy dropped to 45.6% (Model 6) on our test dataset. But it is giving us best rewards as compared to other models. Usually, the number of filters in the convolutional layer grows after each layer. The first few layers with lower number of filter learns simple features of the images whereas the deeper layers learn more complex features.    <br/>\n",
    "\n",
    "<b>In terms of Computation time:-  </b><br/>\n",
    "\n",
    "Model 1 has taken maximum time as we were taking around 4000 data samples and classes were imbalanced. On the other hand while performing under-sampling, our dataset was reduced to 600 images. Due to which the computation time reduced significantly. Also comoutation time increased when we added padding to the layers and also when we added an additional convolutional layer. Basically it also depends on the number of trainable parameters in the model. As we increase the convolutional layer, number of parameters that need to be learned also increases, therefore taking more computational time.\n"
   ]
  },
  {
   "cell_type": "markdown",
   "metadata": {},
   "source": [
    "## Analysis of Part 2\n",
    "\n",
    "Use the DeepQLearning reinforcement learning algorithm to train an agent to play the Lunar Lander"
   ]
  },
  {
   "cell_type": "markdown",
   "metadata": {},
   "source": [
    "For this task, we have created <b>five</b> different sequential model with three hidden layers with 16 neurons each. <br/>\n",
    "In each of the model, we have changed value of following hyper-parameters- <br/>\n",
    "1) Epsilon Value <br/>\n",
    "2) Learning Rate <br/>\n",
    "3) Policy Used <br/>\n",
    "\n",
    "Detailed description about each Model is included in the [Assignment_2_Part_2 notebook](Assignment_2_Part_2.ipynb) <br/>\n",
    "<b>Short Description of Models- <br/> </b>\n",
    "<b>Model 1</b><br/>\n",
    "In Model 1 we have set the value of epsilon to 0.1 and learing rate to 0.0001.<br/>\n",
    "<b>Model 2</b><br/>\n",
    "In Model 2 we have set the value of epsilon to 0.2 and learing rate to 0.0001.<br/>\n",
    "<b>Model 3</b><br/>\n",
    "In Model 3 we have set the value of epsilon to 0.1 and learing rate to 0.001.<br/>\n",
    "<b>Model 4</b><br/>\n",
    "In Model 4 we have set the value of epsilon to 0.2 and learing rate to 0.001.<br/>\n",
    "<b>Model 5</b><br/>\n",
    "In Model 5 we have set the value of epsilon to 0.1 and learing rate to 0.001. Other than that we are using a different policy that is LinearAnnealedPolicy. In this policy, value of epsilon decay our as the agent steps forward in the world. In the below policy, we’re saying that we want to start with a value of 1 for epsilon and go no smaller than 0.1.</b><br/>"
   ]
  },
  {
   "cell_type": "markdown",
   "metadata": {},
   "source": [
    "## Result of the Part 2 Experiment"
   ]
  },
  {
   "cell_type": "code",
   "execution_count": 31,
   "metadata": {},
   "outputs": [],
   "source": [
    "filename = 'part2_model_results.txt'\n",
    "\n",
    "with open(filename, 'r') as fd:\n",
    "    dict_list=json.load(fd)"
   ]
  },
  {
   "cell_type": "code",
   "execution_count": 32,
   "metadata": {},
   "outputs": [],
   "source": [
    "rl_model_reward_comparisons = dict_list[0]\n",
    "rl_model_time_comparisons= dict_list[1]\n",
    "task2_model_reward_comparisons =dict_list[2]"
   ]
  },
  {
   "cell_type": "markdown",
   "metadata": {},
   "source": [
    "<b>Comparison of Rewards (50 episodes) </b>"
   ]
  },
  {
   "cell_type": "code",
   "execution_count": 33,
   "metadata": {},
   "outputs": [
    {
     "data": {
      "text/plain": [
       "{'Model 1': -76.05800147872863,\n",
       " 'Model 2': -125.63024379728482,\n",
       " 'Model 3': -23.049652860423006,\n",
       " 'Model 4': 87.6691901914162,\n",
       " 'Model 5': -75.87643170241438}"
      ]
     },
     "execution_count": 33,
     "metadata": {},
     "output_type": "execute_result"
    }
   ],
   "source": [
    "rl_model_reward_comparisons"
   ]
  },
  {
   "cell_type": "code",
   "execution_count": 36,
   "metadata": {},
   "outputs": [
    {
     "data": {
      "image/png": "[encoded data removed]",
      "text/plain": [
       "<Figure size 432x288 with 1 Axes>"
      ]
     },
     "metadata": {
      "needs_background": "light"
     },
     "output_type": "display_data"
    }
   ],
   "source": [
    "plt.bar(range(len(rl_model_reward_comparisons)), rl_model_reward_comparisons.values(), align='center')\n",
    "plt.xticks(range(len(rl_model_reward_comparisons)), list(rl_model_reward_comparisons.keys()))\n",
    "plt.xlabel('Models')\n",
    "plt.ylabel('Reward on test data (50 episodes)')\n",
    "plt.title('Mean Rewards of different models (50 episodes)')\n",
    "plt.show()"
   ]
  },
  {
   "cell_type": "markdown",
   "metadata": {},
   "source": [
    "<b>Comparison of Rewards (200 episodes) </b>"
   ]
  },
  {
   "cell_type": "code",
   "execution_count": 35,
   "metadata": {},
   "outputs": [
    {
     "data": {
      "text/plain": [
       "{'Model 1': '-79.07191',\n",
       " 'Model 2': '-127.74672',\n",
       " 'Model 3': '-26.935395',\n",
       " 'Model 4': '91.990245',\n",
       " 'Model 5': '-61.32903500'}"
      ]
     },
     "execution_count": 35,
     "metadata": {},
     "output_type": "execute_result"
    }
   ],
   "source": [
    "task2_model_reward_comparisons"
   ]
  },
  {
   "cell_type": "code",
   "execution_count": 39,
   "metadata": {},
   "outputs": [
    {
     "data": {
      "image/png": "[encoded data removed]",
      "text/plain": [
       "<Figure size 432x288 with 1 Axes>"
      ]
     },
     "metadata": {
      "needs_background": "light"
     },
     "output_type": "display_data"
    }
   ],
   "source": [
    "plt.bar(range(len(task2_model_reward_comparisons)), [float(x) for x in task2_model_reward_comparisons.values()], align='center')\n",
    "plt.xticks(range(len(task2_model_reward_comparisons)), list(task2_model_reward_comparisons.keys()))\n",
    "plt.xlabel('Models')\n",
    "plt.ylabel('Reward on test data (200 episodes)')\n",
    "plt.title('Mean Rewards of different models (200 episodes)')\n",
    "plt.show()"
   ]
  },
  {
   "cell_type": "markdown",
   "metadata": {},
   "source": [
    "<b>Computation Time Required by Each Model</b> <br/>\n",
    "I have executed the lunar_lander_rl_player.py file for each model in [Assignment_2_Part_2 notebook](Assignment_2_Part_2.ipynb)"
   ]
  },
  {
   "cell_type": "code",
   "execution_count": 34,
   "metadata": {},
   "outputs": [
    {
     "data": {
      "text/plain": [
       "{'Model 1': 639.8961799144745,\n",
       " 'Model 2': 683.990748167038,\n",
       " 'Model 3': 715.8376429080963,\n",
       " 'Model 4': 769.9784548282623,\n",
       " 'Model 5': 772.2631468772888}"
      ]
     },
     "execution_count": 34,
     "metadata": {},
     "output_type": "execute_result"
    }
   ],
   "source": [
    "rl_model_time_comparisons"
   ]
  },
  {
   "cell_type": "code",
   "execution_count": 41,
   "metadata": {},
   "outputs": [
    {
     "data": {
      "image/png": "[encoded data removed]",
      "text/plain": [
       "<Figure size 432x288 with 1 Axes>"
      ]
     },
     "metadata": {
      "needs_background": "light"
     },
     "output_type": "display_data"
    }
   ],
   "source": [
    "plt.bar(range(len(rl_model_time_comparisons)), rl_model_time_comparisons.values(), align='center')\n",
    "plt.xticks(range(len(rl_model_time_comparisons)), list(rl_model_time_comparisons.keys()))\n",
    "plt.xlabel('Models')\n",
    "plt.ylabel('Time Required (seconds)')\n",
    "plt.title('Computation Time Required By Each Model')\n",
    "plt.show()"
   ]
  },
  {
   "cell_type": "markdown",
   "metadata": {},
   "source": [
    "1) From the results we can see that Model 4 followed by Model 3 is giving is best rewards. In both these models we have set learning rate as 0.001. Learning rate basically controls how much we are adjusting the weights in the network with respect to gradiet loss. If we choose a small value of learning rate then we will travel very slowly along the downward slope and on the other hand high learning rate might cause local minima to be missed and might cause instability. <br/> \n",
    "\n",
    "2) We can also see from the computation time of models with learning rate 0.001 is more than models with learning rate 0.0001. As a result we can say that if we increase the leaning rate, the time to train the model also increases. <br/>\n",
    "\n",
    "3) We have also changes the value of Epsilon in EpsGreedyQPolicy. We use it to balance exploration and exploitation. From the result we can see that for learning rate 0.0001, eps=0.1 is giving us better result. Whereas for learning rate 0.001, eps=0.2 is giving us better results. So we can say that learning rate and epsilon value together can impact the learning of the model. <br/>\n",
    "\n",
    "4) We have also tried using a different policy- LinearAnnealedPolicy. We can see that it is giving us negative reward for 200 episodes. Basically when our agent is new, we let our agent to do a lot of exploration to understand the environment. But with time, our agent starts learning about the environment and we reduce the value of epsilon in order to take the best actions which it has learned.   \n"
   ]
  },
  {
   "cell_type": "markdown",
   "metadata": {},
   "source": [
    "## Conclusion\n",
    "\n",
    "1) We can see from the results that DeepQLearning reinforcement learning is better than supervised machine learning model to control the Lunar Lander craft.<br/>\n",
    "2) Reinforcement learning model is more easy to train than supervised machine learning model. Also we need labeled dataset in case of Supervised machine learning mode which might be difficult to get in some scenarios. In Reinforcement learning model we are directly optimizing the reward rather than trying to understand the dynamics of the environment. It's all about finding the policy that maximizes the rewards while interacting with the environment   <br/>\n",
    "3) In both the method, finding the right hyper-parameter is very important and is computationally very expensive.\n",
    "\n",
    "\n"
   ]
  },
  {
   "cell_type": "code",
   "execution_count": null,
   "metadata": {},
   "outputs": [],
   "source": []
  }
 ],
 "metadata": {
  "kernelspec": {
   "display_name": "Python 3",
   "language": "python",
   "name": "python3"
  },
  "language_info": {
   "codemirror_mode": {
    "name": "ipython",
    "version": 3
   },
   "file_extension": ".py",
   "mimetype": "text/x-python",
   "name": "python",
   "nbconvert_exporter": "python",
   "pygments_lexer": "ipython3",
   "version": "3.6.8"
  }
 },
 "nbformat": 4,
 "nbformat_minor": 2
}
